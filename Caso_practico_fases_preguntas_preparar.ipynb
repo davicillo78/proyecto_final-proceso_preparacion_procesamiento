{
  "cells": [
    {
      "cell_type": "markdown",
      "metadata": {
        "id": "E10EhCFhlGY_"
      },
      "source": [
        "# Caso práctico 1: ¿Cómo lograr el éxito rápido de un negocio de bicicletas compartidas? #\n",
        "---"
      ]
    },
    {
      "cell_type": "markdown",
      "metadata": {
        "id": "0H87NwoElQAU"
      },
      "source": [
        "# Introducción #\n",
        "\n",
        "Bienvenido al caso práctico del análisis de bicicletas compartidas Cyclistic. En este caso práctico, realizarás muchas tareas del mundo real, típicas de un analista de datos júnior. Trabajarás para una empresa ficticia llamada Cyclistic y conocerás a diferentes personajes y miembros del equipo. Para responder a las preguntas clave de la empresa, seguirás los pasos del proceso de análisis de datos: preguntar, preparar, procesar, analizar, compartir y actuar. En este proceso, las tablas del mapa de ruta de caso práctico, incluidas las preguntas orientativas y las tareas clave, te ayudarán a mantenerte en el camino correcto.\n",
        "\n",
        "Al final de esta lección, tendrás un caso práctico listo para el portfolio. Descarga el paquete y consulta los detalles de este caso práctico en cualquier momento. Así, cuando empieces a buscar trabajo, tu caso práctico será una forma tangible de demostrar tus conocimientos y habilidades a los posibles empleadores.\n",
        "\n",
        "---"
      ]
    },
    {
      "cell_type": "markdown",
      "metadata": {
        "id": "YJDpvAVJlrsE"
      },
      "source": [
        "# Escenario #\n",
        "\n",
        "Eres un analista de datos júnior que trabaja en el equipo de analistas de marketing de Cyclistic, una empresa de bicicletas compartidas de Chicago. La directora de marketing cree que el éxito futuro de la empresa depende de maximizar la cantidad de membresías anuales. Por lo tanto, tu equipo quiere entender qué diferencias existen en el uso de las bicicletas Cyclistic entre los ciclistas ocasionales y los miembros anuales. A través de estos conocimientos, tu equipo diseñará una nueva estrategia de marketing para convertir a los ciclistas ocasionales en miembros anuales. Sin embargo, antes de eso, los ejecutivos de Cyclistic deben aprobar tus recomendaciones; por eso, debes respaldar tu propuesta con una visión convincente de los datos y visualizaciones profesionales de los mismos.\n",
        "\n",
        "# Personajes y equipos #\n",
        "\n",
        "* **Cyclistic**: Un programa de bicicletas compartidas que incluye 5,800 bicicletas y 600 estaciones. Cyclistic se destaca por ofrecer también bicicletas reclinadas, triciclos manuales y bicicletas de carga que ofrecen un uso más inclusivo de las bicicletas compartidas para las personas con discapacidad y los ciclistas que no pueden utilizar una bicicleta estándar de dos ruedas. La mayoría de los ciclistas eligen las bicicletas tradicionales, alrededor de un 8% de los ciclistas usan las opciones asistidas. Los usuarios de Cyclistic son más propensos a utilizar la bicicleta para recreación, pero alrededor del 30% la utiliza para ir al trabajo cada día.\n",
        "* **Lily Moreno**: La directora de marketing y tu gerente. Moreno es responsable del desarrollo de campañas e iniciativas para promover el programa de bicicletas compartidas. Las campañas pueden incluir correo electrónico, redes sociales y otros canales.\n",
        "* **Equipo de análisis computacional de datos de marketing de Cyclistic**: Un equipo de analistas de datos que se encargan de recopilar, analizar e informar datos que ayudan a conducir la estrategia de marketing de Cyclistic. Te incorporaste a este equipo hace seis meses y te has dedicado no solo a conocer la misión y las metas de negocios de Cyclistic, sino también a ver cómo puedes ayudar a Cyclistic a lograrlo, desde tu posición de analista de datos júnior.\n",
        "* **Equipo ejecutivo de Cyclistic**: El equipo ejecutivo, sumamente detallista, decidirá si aprueba el programa de marketing recomendado.\n",
        "\n",
        "# Acerca de la empresa #\n",
        "\n",
        "En 2016, Cyclistic lanzó una exitosa oferta de bicicletas compartidas. Desde entonces, el programa creció hasta alcanzar una flota de 5,824 bicicletas georreferenciadas y bloqueadas en una red de 692 estaciones en toda Chicago. Las bicicletas se pueden desbloquear desde una estación y devolverse en cualquier otra estación del sistema en cualquier momento.\n",
        "\n",
        "Hasta ahora, la estrategia de marketing de Cyclistic se basaba en la construcción de un reconocimiento de marca general y en atraer a amplios segmentos de consumidores. Uno de los enfoques que ayudó a hacer esto posible fue la flexibilidad de sus planes de precios: pases de un solo viaje, pases de un día completo y membresías anuales. A los clientes que compran pases de un solo viaje o pases de un día completo se los llama ciclistas ocasionales. Los clientes que compran membresías anuales se llaman miembros de Cyclistic.\n",
        "\n",
        "Los analistas financieros de Cyclistic llegaron a la conclusión de que los miembros anuales son mucho más rentables que los ciclistas ocasionales. Aunque la flexibilidad de precios ayuda a Cyclistic a atraer más clientes, Moreno cree que maximizar el número de miembros anuales será clave para el crecimiento futuro. En lugar de crear una campaña de marketing que apunte a todos los clientes nuevos, Moreno cree que hay muchas posibilidades de convertir a los ciclistas ocasionales en miembros. Ella señala que los ciclistas ocasionales ya conocen el programa de Cyclistic y han elegido a Cyclistic para sus necesidades de movilidad.\n",
        "\n",
        "Moreno estableció una meta clara: Diseñar estrategias de marketing orientadas a convertir a los ciclistas ocasionales en miembros anuales. Sin embargo, para hacer eso, el equipo de analistas de marketing necesita entender mejor cómo difieren los miembros anuales y los ciclistas ocasionales, por qué los ciclistas ocasionales comprarían una membresía y cómo los medios digitales podrían afectar sus tácticas de marketing. Moreno y su equipo están interesados en analizar los datos históricos de viajes en bicicleta de Cyclistic para identificar tendencias.\n",
        "\n",
        "---"
      ]
    },
    {
      "cell_type": "markdown",
      "metadata": {
        "id": "JWZB6yQLmN0m"
      },
      "source": [
        "# FASE 1: PREGUNTAR #\n",
        "\n",
        "Tres preguntas guiarán el futuro programa de marketing:\n",
        "\n",
        "1.\t¿En qué se diferencian los socios anuales y los ciclistas ocasionales con respecto al uso de las bicicletas de Cyclistic?\n",
        "2.\t¿Por qué los ciclistas ocasionales comprarían membresías anuales de Cyclistic?\n",
        "3.\t¿Cómo puede usar Cyclistic los medios digitales para influenciar a los ciclistas ocasionales a convertirse en miembros?\n",
        "\n",
        "\n",
        "Moreno te asignó la primera pregunta por responder:\n",
        "\n",
        "* **¿En qué se diferencian los socios anuales y los ciclistas ocasionales con respecto al uso de las bicicletas de Cyclistic?**\n",
        "\n",
        "Crearás un informe con los siguientes entregables:\n",
        "\n",
        "1.\tUna instrucción clara de la tarea empresarial\n",
        "2.\tUna descripción de todas las fuentes de datos utilizadas\n",
        "3.\tDocumentación de todas las limpiezas y manipulaciones de datos\n",
        "4.\tUn resumen de tu análisis\n",
        "5.\tVisualizaciones de respaldo y hallazgos clave\n",
        "6.\tLas tres recomendaciones más importantes basadas en tu análisis\n",
        "\n",
        "Usa el siguiente mapa de ruta de caso práctico como guía. Nota: Completar este caso práctico en una semana es una buena meta.\n",
        "\n",
        "| Mapa de ruta de caso práctico - Preguntar |\n",
        "| :-: |\n",
        "|   |\n",
        "| **Preguntas orientativas** |\n",
        "| ¿Cuál es el problema que intentas resolver? |\n",
        "|   |\n",
        "| ¿Cómo tus conocimientos pueden impulsar las decisiones empresariales? |\n",
        "| **Tareas clave** |\n",
        "| 1.\tIdentificar la tarea empresarial |\n",
        "|   |\n",
        "| 2.\tConsiderar a los interesados clave |\n",
        "| **Entregable** |\n",
        "| Una instrucción clara de la tarea empresarial |\n",
        "\n",
        "---\n"
      ]
    },
    {
      "cell_type": "markdown",
      "metadata": {
        "id": "Rjmvt9NLndkp"
      },
      "source": [
        "# DESARROLLO FASE 1: PREGUNTAR ##\n",
        "\n",
        "Dentro del proyecto de Cyclistic asignado al equipo de análisis computacional de datos de marketing de la emrpresa, se plantearon tres preguntas empresariales, que son las que marcarán la hoja de ruta del análisis objeto de estudio.\n",
        "1. ¿En qué se diferencian los socios anuales y los ciclistas ocasionales con respecto al uso de las bicicletas de Cyclistic?\n",
        "2. ¿Por qué los ciclistas ocasionales comprarían membresías anuales de Cyclistic?\n",
        "3. ¿Cómo puede usar Cyclistic los medios digitales para influenciar a los ciclistas ocasionales a convertirse en miembros?\n",
        "\n",
        "Para el departamento del que formo parte, se ha designado la primera pregunta a examinar:\n",
        "\n",
        "* **¿En qué se diferencian los socios anuales y los ciclistas ocasionales con respecto al uso de las bicicletas de Cyclistic?**\n",
        "\n",
        "### Desarrollo del mapa de ruta ###\n",
        "\n",
        "Para desarrollar este proyecto y resolver la tarea empresarial designada a mi departamento responderemos a las siguientes cuestiones:\n",
        "1. ¿Cuál es el problema que intentas resolver?\n",
        "  * El problema a resolver es, análizar las principales diferencias entre los usuarios ocasionales de Cyclistic y los miembros anuales, respecto al uso de las bicicletas de la empresa.\n",
        "2. ¿Cómo tus conocimientos pueden impulsar las decisiones empresariales?\n",
        "  * Utilizaremos técnicas de análisis de datos con diferentes herramientas, para establecer visualizaciones que nos den una respuesta clara a la anterior pregunta.\n",
        "  * Utilizaremos la información de la base de datos de la propia empresa para dicha tarea.\n",
        "  * Realizaremos las tareas de recolección, procesado y tratamiento, análisis y visualizacion de los datos, en busca de patrones significativos.\n",
        "  * Compartiremos dichos resultados con los interesados en el proyecto.\n",
        "  * Proporcionaremos directrices acerca de mejor estrategia a tomar para conseguir el objetivo empresarial.\n",
        "\n",
        "Las principales tareas clave de éste proyecto son:\n",
        "1.  Identificar la tarea empresarial\n",
        "  * Diseñar una nueva estrategia de marketing para convertir a los ciclistas ocasionales en miembros anuales.\n",
        "  * Respaldar la propuesta estratégica con una visión convincente de los datos y visualizaciones profesionales de los mismos.\n",
        "2. Considerar a los interesados clave\n",
        "  * Equipo ejecutivo de Cyclistic en máxima instancia.\n",
        "  * Lily Moreno, directora de márqueting y gerente del proyecto.\n",
        "  * El equipo de márqueting encargado de elaborar la estrategia fruto del análisis realizado.\n",
        "\n",
        "---\n",
        "  "
      ]
    },
    {
      "cell_type": "markdown",
      "metadata": {
        "id": "qcEfRDDxbJoI"
      },
      "source": [
        "# FASE 2: PREPARAR #\n",
        "\n",
        "\n",
        "Usarás los datos históricos de los viajes de Cyclistic para analizar e identificar tendencias. Descarga los últimos 12 meses de datos de viajes de Cyclistic  [aquí](https://divvy-tripdata.s3.amazonaws.com/index.html). (Nota: Los conjuntos de datos tienen un nombre diferente porque Cyclistic es una empresa ficticia. A los fines de este caso práctico, los conjuntos de datos son apropiados y te permitirán responder las preguntas de la empresa. Los datos han sido proporcionados por Motivate International Inc. bajo [esta licencia](https://divvybikes.com/data-license-agreement).) Estos son datos públicos que puedes usar para explorar cómo difieren los tipos de clientes que usan las bicicletas Cyclistic. Sin embargo, ten en cuenta que, por cuestiones de privacidad de los datos, se te prohíbe usar información de identificación personal de los ciclistas. Esto significa que no podrás conectar las compras de pases con los números de tarjetas de crédito para determinar si los ciclistas ocasionales viven en el área de servicio de Cyclistic o si compraron varios pases de un solo viaje.\n",
        "\n",
        "Ahora, prepara tus datos para el análisis usando el siguiente mapa de ruta de caso práctico como guía:\n",
        "\n",
        "| Mapa de ruta de caso práctico - Preparar |\n",
        "| :-: |\n",
        "| **Preguntas orientativas** |\n",
        "| •\t¿Dónde se ubican tus datos? |\n",
        "|   |\n",
        "| •\t¿Cómo están organizados los datos? |\n",
        "|   |\n",
        "| •\t¿Hay problemas con el sesgo o la credibilidad de estos datos? ¿Tus datos son confiables, originales, integrales, actuales y citados (ROCCC)? |\n",
        "|   |\n",
        "| •\t¿Cómo estás abordando la autorización, la privacidad, la seguridad y la accesibilidad? |\n",
        "|   |\n",
        "| •\t¿Cómo verificaste la integridad de los datos? |\n",
        "|   |\n",
        "| •\t¿De qué manera te ayuda a responder tu pregunta? |\n",
        "|   |\n",
        "| •\t¿Existe algún problema con los datos? |\n",
        "| **Tareas clave** |\n",
        "| 1.\tDescarga los datos y almacénalos adecuadamente. |\n",
        "|   |\n",
        "| 2.\tIdentifica cómo están organizados. |\n",
        "|   |\n",
        "| 3.\tOrdena y filtra los datos. |\n",
        "|   |\n",
        "| 4.\tDetermina la credibilidad de los datos. |\n",
        "| **Entregable** |\n",
        "| •\tUna descripción de todas las fuentes de datos utilizadas |\n",
        "\n",
        "---\n",
        "\n"
      ]
    },
    {
      "cell_type": "markdown",
      "metadata": {
        "id": "5o20ydaWUFvA"
      },
      "source": [
        "# DESARROLLO FASE 2: PREPARAR #\n",
        "\n",
        "Para responder a las preguntas orientativas, hemos visitado los enlaces disponibles, hemos descargado los archivos, se han inspeccionado y se han guardado en la cuenta drive específica del proyecto.\n",
        "Vamos con la lista de preguntas orientativas.\n",
        "* ¿Dónde se ubican tus datos?:\n",
        "  * Los datos empleados para el estudio, son proporcionados por la misma empresa, los dispone alojados en la nube mediante un servicio S3 de Amazon Web Services.\n",
        "*  ¿Cómo están organizados los datos?\n",
        "  * Los datos obtenidos se encuentran en formato .csv (datos separados por comas). Cada fichero representa un mes de datos. Hay disponibilidad de un amplio historico de datos, aunque para este estudio solo hemos recopilado los últimos 12 meses.\n",
        "* ¿Hay problemas con el sesgo o la credibilidad de estos datos? ¿Tus datos son confiables, originales, integrales, actuales y citados (ROCCC)?\n",
        "  * Los datos obtenidos forman parte de un set de datos público que provienen de una fuente primaria, por lo que consideramos la misma original y confiable.\n",
        "  * La información recopilada contiene datos organizados en 13 variables (\"ride_id\", \"rideable_type\", \"started_at\", \"ended_at\", \"start_station_name\", \"start_station_id\", \"end_station_name\", \"end_station_id\", \"start_lat\", \"start_lng\", \"end_lat\", \"end_lng\", \"member_casual\"), son las mismas variables en los 12 archivos y el tipo de datos es el mismo en los 12 archivos. Además es coherente con el tipo de datos de cada variable. Podemos asegurar por tanto que la información es integral.\n",
        "  * El periodo temporal recogido abarca un periodo de doce meses, comprende las fechas 01/02/2023 al 31/01/2024. Podemos considerar la información como actual.\n",
        "  * Podemos decir que son datos citados. Son datos oficiales y con una directiva de privacidad establecida.\n",
        "  * Dadas todas estas premisas, consideramos que los datos cumplen con la clasificación ROCCC.\n",
        "* ¿Cómo estás abordando la autorización, la privacidad, la seguridad y la accesibilidad?\n",
        "  * Consultamos la licencia correspondiente a la directiva de privacidad de los datos y podemos destacar las siguientes cláusulas. Cita textual: Bikeshare le concede una licencia no exclusiva, gratuita, limitada y perpetua para acceder, reproducir, analizar, copiar, modificar, distribuir en su producto o servicio y utilizar los Datos para cualquier fin lícito.\n",
        "  * Se establecen limitaciones de uso, recogidas en el enlace a la licencia indicado. Se prohibe el uso fraudulento, para uso comercial particular, o para compartir información privada tal como nombres, direcciones u otra información relativa a los clientes de Bikeshare, incluidos números de tarjetas de crédito.\n",
        "  * Los datos recogidos para este estudio se muestran ya limpios de cualquier información personal. Son de acceso público, y alojados en servidores en la nube, con sus respectivas condiciones de seguridad.\n",
        "*  ¿Cómo verificaste la integridad de los datos?\n",
        "  * Una vez descargados los datos, se ha realizado un visionado de los mismos. Se comprueba que todos los archivos contienen las mismas variables y los mismos tipos de datos en cada variable. Se perciben datos vacíos que se tratarán mas adelante con una limpieza. Pero la integridad de los datos está asegurada.\n",
        "* ¿De qué manera te ayuda a responder tu pregunta?\n",
        "  * Tenemos datos que indican fecha y hora de salida, fecha y hora de llegada, estaciones de salida y de llegada, y el tipo de miembro que realizó cada viaje. Con todas estas variables, podemos realizar búsquedas para tratar de hallar diferencias significativas entre los ciclistas socios y los eventuales.\n",
        "* ¿Existe algún problema con los datos?\n",
        "  * En una primera inspección solo se han visto datos faltantes. A la espera de un exámen más exhaustivo, es el único problema que se aprecia en los datos.\n",
        "\n",
        "### Descripción de las fuentes utilizadas ###\n",
        "\n",
        "1. Origen: https://divvy-tripdata.s3.amazonaws.com/index.html\n",
        "2. Estructura de los datos: 12 archivos con extensión .csv pertenecientes a los meses desde 01/02/2023 hasta 31/01/2024\n",
        "3. Categoría de los datos: provienen de fuentes primarias oficiales, de acceso público.\n",
        "4. Estructuración interna de los datos: organización en formato tabular, con 13 variables idénticas en todos los archivos, de la siguiente forma.\n",
        "\n",
        "| **VARIABLES:** | **tipo de dato**  | **Null** |\n",
        "| :- | -: | -: |\n",
        "| ride_id | object  | 0 |\n",
        "| rideable_type | object  | 0 |\n",
        "| started_at | datetime | 0 |\n",
        "| ended_at | datetime | 0 |\n",
        "| start_station_name | object  | 868160 |\n",
        "| start_station_id | object  | 868292 |\n",
        "| end_station_name | object  | 922111 |\n",
        "| end_station_id | object  | 922252 |\n",
        "| start_lat | float64 | 0 |\n",
        "| start_lng | float64 | 0 |\n",
        "| end_lat | float64 | 7151 |\n",
        "| end_lng | float64 | 7151 |\n",
        "| member_casual | object  | 0 |\n",
        "|   |   |   |\n",
        "|   |   |   |\n",
        "|dtypes: | float64 (4) <br>object (9) | 922252(max) |\n",
        "\n",
        "\n",
        "5. Union total de las 12 tablas: 5674449 registros\n",
        "6. Limpieza :\n",
        "  * Se hace limpieza de una parte de registros nulos.\n",
        "  * Se ha limpiado un número de registros con valores erroneos.\n",
        "  * Despues de limpiar los registros nulos/vacíos : 5447717  registros.\n",
        "\n",
        "---"
      ]
    }
  ],
  "metadata": {
    "accelerator": "TPU",
    "colab": {
      "provenance": []
    },
    "kernelspec": {
      "display_name": "Python 3",
      "name": "python3"
    },
    "language_info": {
      "name": "python"
    }
  },
  "nbformat": 4,
  "nbformat_minor": 0
}
